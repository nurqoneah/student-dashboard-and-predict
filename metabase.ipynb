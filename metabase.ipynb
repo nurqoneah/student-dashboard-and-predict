{
 "cells": [
  {
   "cell_type": "code",
   "execution_count": 1,
   "metadata": {},
   "outputs": [],
   "source": [
    "import pandas as pd\n",
    "\n",
    "url = \"https://raw.githubusercontent.com/dicodingacademy/dicoding_dataset/main/students_performance/data.csv\"\n",
    "df = pd.read_csv(url, delimiter=\";\")\n"
   ]
  },
  {
   "cell_type": "code",
   "execution_count": 2,
   "metadata": {},
   "outputs": [
    {
     "data": {
      "text/plain": [
       "124"
      ]
     },
     "execution_count": 2,
     "metadata": {},
     "output_type": "execute_result"
    }
   ],
   "source": [
    "from sqlalchemy import create_engine\n",
    " \n",
    "URL = \"postgresql://postgres.qjnilqynhisodghypief:pw@aws-0-ap-southeast-1.pooler.supabase.com:6543/postgres\"\n",
    " \n",
    "engine = create_engine(URL)\n",
    "df.to_sql('student', engine)"
   ]
  },
  {
   "cell_type": "code",
   "execution_count": 7,
   "metadata": {},
   "outputs": [
    {
     "name": "stdout",
     "output_type": "stream",
     "text": [
      "      index  Marital_status  Application_mode  Application_order  Course  \\\n",
      "0         0               1                17                  5     171   \n",
      "1         1               1                15                  1    9254   \n",
      "2         2               1                 1                  5    9070   \n",
      "3         3               1                17                  2    9773   \n",
      "4         4               2                39                  1    8014   \n",
      "...     ...             ...               ...                ...     ...   \n",
      "4419   4419               1                 1                  6    9773   \n",
      "4420   4420               1                 1                  2    9773   \n",
      "4421   4421               1                 1                  1    9500   \n",
      "4422   4422               1                 1                  1    9147   \n",
      "4423   4423               1                10                  1    9773   \n",
      "\n",
      "      Daytime_evening_attendance  Previous_qualification  \\\n",
      "0                              1                       1   \n",
      "1                              1                       1   \n",
      "2                              1                       1   \n",
      "3                              1                       1   \n",
      "4                              0                       1   \n",
      "...                          ...                     ...   \n",
      "4419                           1                       1   \n",
      "4420                           1                       1   \n",
      "4421                           1                       1   \n",
      "4422                           1                       1   \n",
      "4423                           1                       1   \n",
      "\n",
      "      Previous_qualification_grade  Nacionality  Mothers_qualification  ...  \\\n",
      "0                            122.0            1                     19  ...   \n",
      "1                            160.0            1                      1  ...   \n",
      "2                            122.0            1                     37  ...   \n",
      "3                            122.0            1                     38  ...   \n",
      "4                            100.0            1                     37  ...   \n",
      "...                            ...          ...                    ...  ...   \n",
      "4419                         125.0            1                      1  ...   \n",
      "4420                         120.0          105                      1  ...   \n",
      "4421                         154.0            1                     37  ...   \n",
      "4422                         180.0            1                     37  ...   \n",
      "4423                         152.0           22                     38  ...   \n",
      "\n",
      "      Curricular_units_2nd_sem_credited  Curricular_units_2nd_sem_enrolled  \\\n",
      "0                                     0                                  0   \n",
      "1                                     0                                  6   \n",
      "2                                     0                                  6   \n",
      "3                                     0                                  6   \n",
      "4                                     0                                  6   \n",
      "...                                 ...                                ...   \n",
      "4419                                  0                                  6   \n",
      "4420                                  0                                  6   \n",
      "4421                                  0                                  8   \n",
      "4422                                  0                                  5   \n",
      "4423                                  0                                  6   \n",
      "\n",
      "      Curricular_units_2nd_sem_evaluations  Curricular_units_2nd_sem_approved  \\\n",
      "0                                        0                                  0   \n",
      "1                                        6                                  6   \n",
      "2                                        0                                  0   \n",
      "3                                       10                                  5   \n",
      "4                                        6                                  6   \n",
      "...                                    ...                                ...   \n",
      "4419                                     8                                  5   \n",
      "4420                                     6                                  2   \n",
      "4421                                     9                                  1   \n",
      "4422                                     6                                  5   \n",
      "4423                                     6                                  6   \n",
      "\n",
      "      Curricular_units_2nd_sem_grade  \\\n",
      "0                           0.000000   \n",
      "1                          13.666667   \n",
      "2                           0.000000   \n",
      "3                          12.400000   \n",
      "4                          13.000000   \n",
      "...                              ...   \n",
      "4419                       12.666667   \n",
      "4420                       11.000000   \n",
      "4421                       13.500000   \n",
      "4422                       12.000000   \n",
      "4423                       13.000000   \n",
      "\n",
      "      Curricular_units_2nd_sem_without_evaluations  Unemployment_rate  \\\n",
      "0                                                0               10.8   \n",
      "1                                                0               13.9   \n",
      "2                                                0               10.8   \n",
      "3                                                0                9.4   \n",
      "4                                                0               13.9   \n",
      "...                                            ...                ...   \n",
      "4419                                             0               15.5   \n",
      "4420                                             0               11.1   \n",
      "4421                                             0               13.9   \n",
      "4422                                             0                9.4   \n",
      "4423                                             0               12.7   \n",
      "\n",
      "      Inflation_rate   GDP    Status  \n",
      "0                1.4  1.74   Dropout  \n",
      "1               -0.3  0.79  Graduate  \n",
      "2                1.4  1.74   Dropout  \n",
      "3               -0.8 -3.12  Graduate  \n",
      "4               -0.3  0.79  Graduate  \n",
      "...              ...   ...       ...  \n",
      "4419             2.8 -4.06  Graduate  \n",
      "4420             0.6  2.02   Dropout  \n",
      "4421            -0.3  0.79   Dropout  \n",
      "4422            -0.8 -3.12  Graduate  \n",
      "4423             3.7 -1.70  Graduate  \n",
      "\n",
      "[4424 rows x 38 columns]\n"
     ]
    }
   ],
   "source": [
    "from sqlalchemy.sql import text\n",
    "\n",
    "with engine.connect() as conn:\n",
    "    query = text(\"SELECT * FROM student\") \n",
    "    result = conn.execute(query)\n",
    "    df = pd.DataFrame(result.fetchall())\n",
    "    print(df)"
   ]
  }
 ],
 "metadata": {
  "kernelspec": {
   "display_name": "penerapands",
   "language": "python",
   "name": "python3"
  },
  "language_info": {
   "codemirror_mode": {
    "name": "ipython",
    "version": 3
   },
   "file_extension": ".py",
   "mimetype": "text/x-python",
   "name": "python",
   "nbconvert_exporter": "python",
   "pygments_lexer": "ipython3",
   "version": "3.12.5"
  }
 },
 "nbformat": 4,
 "nbformat_minor": 2
}
